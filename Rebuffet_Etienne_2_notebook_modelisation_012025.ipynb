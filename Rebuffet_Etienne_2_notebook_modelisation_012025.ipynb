{
 "cells": [
  {
   "cell_type": "markdown",
   "id": "ef01e7a5-4871-4e2b-a3b6-b493152c0495",
   "metadata": {},
   "source": [
    "# Implémentez un modèle de scoring"
   ]
  },
  {
   "cell_type": "code",
   "execution_count": null,
   "id": "f2790735-669f-4845-ab13-038147df5176",
   "metadata": {},
   "outputs": [],
   "source": []
  }
 ],
 "metadata": {
  "kernelspec": {
   "display_name": "Python 3 (ipykernel)",
   "language": "python",
   "name": "python3"
  },
  "language_info": {
   "codemirror_mode": {
    "name": "ipython",
    "version": 3
   },
   "file_extension": ".py",
   "mimetype": "text/x-python",
   "name": "python",
   "nbconvert_exporter": "python",
   "pygments_lexer": "ipython3",
   "version": "3.12.2"
  }
 },
 "nbformat": 4,
 "nbformat_minor": 5
}
